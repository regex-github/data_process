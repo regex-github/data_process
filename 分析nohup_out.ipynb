{
 "cells": [
  {
   "cell_type": "code",
   "execution_count": null,
   "id": "e25f9ce1",
   "metadata": {},
   "outputs": [],
   "source": [
    "import pandas as pd\n",
    "import numpy as np\n",
    "\n",
    "file_path = \"E:/downloads/nohup.out\"\n",
    "with open(file_path, 'r') as f:\n",
    "    raw_content = f.readlines()"
   ]
  },
  {
   "cell_type": "code",
   "execution_count": null,
   "id": "b1edc177",
   "metadata": {},
   "outputs": [],
   "source": [
    "line_id = 0\n",
    "isl_id = 0\n",
    "sat_b = \"0\"\n",
    "\n",
    "for line in raw_content:\n",
    "    line_id += 1\n",
    "    if \"time\" in line:\n",
    "        continue\n",
    "    line = line.strip()\n",
    "    frags = line.split(' ')\n",
    "    # print(frags)\n",
    "\n",
    "    if frags[1] != sat_b:\n",
    "        isl_id += 1\n",
    "        \n",
    "    sat_a = frags[0]\n",
    "    sat_b = frags[1]\n",
    "    isl_type = frags[2]\n",
    "    trash_id = frags[3]\n",
    "    if float(frags[4]) < float(frags[5]):\n",
    "        print(line, raw_content.index(line))\n",
    "    # break"
   ]
  },
  {
   "cell_type": "code",
   "execution_count": 7,
   "id": "0fd2acf4",
   "metadata": {},
   "outputs": [
    {
     "name": "stdout",
     "output_type": "stream",
     "text": [
      "20372037 5613\n"
     ]
    }
   ],
   "source": [
    "print(line_id, isl_id)"
   ]
  }
 ],
 "metadata": {
  "kernelspec": {
   "display_name": "Python 3",
   "language": "python",
   "name": "python3"
  },
  "language_info": {
   "codemirror_mode": {
    "name": "ipython",
    "version": 3
   },
   "file_extension": ".py",
   "mimetype": "text/x-python",
   "name": "python",
   "nbconvert_exporter": "python",
   "pygments_lexer": "ipython3",
   "version": "3.7.4"
  },
  "vscode": {
   "interpreter": {
    "hash": "3f1356fb5aa2ac1d38d36531289979757a8ce1b6a954c017702a66c8faa0b3ea"
   }
  }
 },
 "nbformat": 4,
 "nbformat_minor": 5
}
