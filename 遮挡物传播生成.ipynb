{
 "cells": [
  {
   "cell_type": "code",
   "execution_count": null,
   "id": "a46e7c52",
   "metadata": {},
   "outputs": [],
   "source": [
    "import pandas\n",
    "import os\n",
    "from skyfield.api import EarthSatellite, load, wgs84\n",
    "\n",
    "\n",
    "# 所有的遮挡物数据csv放在路径下，共29458。提供TLE数据\n",
    "trash_path = \"/root/wei/TLE/all_by_id_latest/\"\n",
    "# 输出文件存储路径\n",
    "save_path = \"/root/oyl/003/data/trash_object/\"\n",
    "trash_file_list = os.listdir(trash_path)\n",
    "# print(len(trash_file_list))\n",
    "\n",
    "# bookmark 设定你需要的时间点\n",
    "select_t = \"2022-12-27 00:00:00\"\n",
    "\n",
    "for trash_file_name in trash_file_list:\n",
    "    # 传播后数据存储 一分钟一行\n",
    "    propagation_list = []\n",
    "    trash_pd = pandas.read_csv(trash_path+trash_file_name)\n",
    "    # print(trash_pd_0.shape)\n",
    "    # print(trash_pd_0.columns)\n",
    "    # print(trash_pd_0[\"EPOCH\"])\n",
    "    data = trash_pd\n",
    "    # 筛选出距离目标时间点前最近的TLE\n",
    "    temp=data[data[\"EPOCH\"]<=select_t]\n",
    "    if len(temp) != 0:\n",
    "        lastest = temp.iloc[-1]\n",
    "        print(lastest)\n",
    "    else:\n",
    "        raise Exception\n",
    "\n",
    "    ts = load.timescale()\n",
    "    satellite = EarthSatellite(lastest['TLE_LINE1'], lastest['TLE_LINE2'], lastest['TLE_LINE0'])\n",
    "    # You can instead use ts.now() for the current time\n",
    "    # t_init = ts.utc(2022, 12, 27, 0, 0, 0)\n",
    "    # 传播时间点数 每分钟一个点 这里是60个点 bookmark\n",
    "    t_lens = 60\n",
    "    for i in range(t_lens):\n",
    "        # bookmark\n",
    "        t = ts.utc(2022, 12, 27, 0, 0 + i, 0)\n",
    "        geocentric = satellite.at(t)\n",
    "        # print(geocentric.position.km)\n",
    "        # [-5021.82658191   742.71506112  3831.57403957]\n",
    "        propagation_list.append(geocentric.position.km)\n",
    "    propagation_pd = pandas.DataFrame(propagation_list)\n",
    "    propagation_pd.columns = ['x', 'y', 'z']\n",
    "    propagation_pd.to_csv(save_path + \"Propagation\" + trash_file_name)\n",
    "\n",
    "    break"
   ]
  }
 ],
 "metadata": {
  "kernelspec": {
   "display_name": "Python 3",
   "language": "python",
   "name": "python3"
  },
  "language_info": {
   "codemirror_mode": {
    "name": "ipython",
    "version": 3
   },
   "file_extension": ".py",
   "mimetype": "text/x-python",
   "name": "python",
   "nbconvert_exporter": "python",
   "pygments_lexer": "ipython3",
   "version": "3.7.3"
  },
  "vscode": {
   "interpreter": {
    "hash": "3f1356fb5aa2ac1d38d36531289979757a8ce1b6a954c017702a66c8faa0b3ea"
   }
  }
 },
 "nbformat": 4,
 "nbformat_minor": 5
}
