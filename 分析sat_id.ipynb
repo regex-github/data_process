{
 "cells": [
  {
   "cell_type": "code",
   "execution_count": null,
   "metadata": {},
   "outputs": [],
   "source": [
    "import numpy\n",
    "import time\n",
    "import os\n",
    "\n",
    "\n",
    "file_dir_path = \"./output/\"\n",
    "\n",
    "file_name_list = os.listdir(file_dir_path)\n",
    "data_list = []\n",
    "# 载入所有npy文件\n",
    "for file_name in file_name_list:\n",
    "    data_list.append(numpy.load(file_dir_path+file_name,allow_pickle=True).item())"
   ]
  },
  {
   "cell_type": "code",
   "execution_count": null,
   "metadata": {},
   "outputs": [],
   "source": [
    "import h3\n",
    "\n",
    "\n",
    "# 按照小区分析\n",
    "resolution = 5\n",
    "h3_dict = {}\n",
    "for i in range(len(data_list)):\n",
    "    # 对每一个文件i，即旧数据\n",
    "    for sat in data_list[i].keys():\n",
    "        # 对每一个卫星\n",
    "        for j in range(len(data_list[i][sat]['pos_bl'])):\n",
    "            # 对每一次记录\n",
    "            pos_bl = data_list[i][sat]['pos_bl'][j]\n",
    "            h3_index = h3.geo_to_h3(pos_bl[0] / numpy.pi * 180, pos_bl[1] / numpy.pi * 180, resolution)\n",
    "            record = [\n",
    "                data_list[i][sat]['epoch'][j],\n",
    "                data_list[i][sat]['pos'][j],\n",
    "                data_list[i][sat]['velocity'][j],\n",
    "                data_list[i][sat]['altitude'][j],\n",
    "                data_list[i][sat]['radial velocity'][j],\n",
    "                data_list[i][sat]['pos_bl'][j]\n",
    "            ]\n",
    "            if h3_index in h3_dict.keys():\n",
    "                h3_dict[h3_index].append(record)\n",
    "            else:\n",
    "                h3_dict[h3_index] = [record]"
   ]
  },
  {
   "cell_type": "code",
   "execution_count": 12,
   "metadata": {},
   "outputs": [],
   "source": [
    "# 将按照小区归类后的数据存储\n",
    "numpy.save(\"analyse_output/ByRegion_analyse.npy\", h3_dict)"
   ]
  },
  {
   "cell_type": "code",
   "execution_count": null,
   "metadata": {},
   "outputs": [],
   "source": [
    "print(len(h3_dict.keys()))\n",
    "# print(h3_dict['8597086bfffffff'])\n",
    "# 统计每个小区有多少条卫星记录\n",
    "h3_count = {}\n",
    "for h3_index in h3_dict.keys():\n",
    "    h3_count[h3_index] = len(h3_dict[h3_index])\n",
    "# 按照卫星数量从大到小的顺序对小区进行排序\n",
    "h3_count_sorted = sorted(h3_count.items(), key=lambda x:x[1], reverse=True)"
   ]
  },
  {
   "cell_type": "code",
   "execution_count": null,
   "metadata": {},
   "outputs": [],
   "source": [
    "# 把最多记录的小区的卫星记录输出csv，用于查看\n",
    "import pandas\n",
    "\n",
    "\n",
    "df = pandas.DataFrame(h3_dict[h3_count_sorted[0][0]])\n",
    "df.columns = [\n",
    "    'epoch',\n",
    "    'pos',\n",
    "    'velocity',\n",
    "    'altitude',\n",
    "    'radial velocity',\n",
    "    'pos_bl',\n",
    "]\n",
    "df.to_csv(h3_count_sorted[0][0]+\"_data.csv\")"
   ]
  },
  {
   "cell_type": "code",
   "execution_count": 14,
   "metadata": {},
   "outputs": [],
   "source": [
    "# 统计每个小区有多少条卫星记录输出成csv\n",
    "df_count = pandas.DataFrame(h3_count_sorted)\n",
    "df_count.columns = [\n",
    "    'h3_index',\n",
    "    'count'\n",
    "]\n",
    "df_count.to_csv(\"count_data.csv\")"
   ]
  }
 ],
 "metadata": {
  "kernelspec": {
   "display_name": "Python 3",
   "language": "python",
   "name": "python3"
  },
  "language_info": {
   "codemirror_mode": {
    "name": "ipython",
    "version": 3
   },
   "file_extension": ".py",
   "mimetype": "text/x-python",
   "name": "python",
   "nbconvert_exporter": "python",
   "pygments_lexer": "ipython3",
   "version": "3.7.3"
  },
  "vscode": {
   "interpreter": {
    "hash": "3f1356fb5aa2ac1d38d36531289979757a8ce1b6a954c017702a66c8faa0b3ea"
   }
  }
 },
 "nbformat": 4,
 "nbformat_minor": 5
}
